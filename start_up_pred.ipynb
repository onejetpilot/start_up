{
 "cells": [
  {
   "metadata": {},
   "cell_type": "markdown",
   "source": "# Стартапы",
   "id": "ced7a76c1704d225"
  },
  {
   "metadata": {},
   "cell_type": "markdown",
   "source": "## 0.Описание проекта",
   "id": "662d5018df233b67"
  },
  {
   "metadata": {},
   "cell_type": "markdown",
   "source": "### 0.1.Задача проекта",
   "id": "ca1cc9887d6da289"
  },
  {
   "metadata": {},
   "cell_type": "markdown",
   "source": "Разработать модель для предсказания успешности стартапа (закроется или нет)",
   "id": "c8b563e100498236"
  },
  {
   "metadata": {},
   "cell_type": "markdown",
   "source": "### 0.2.Описание данных",
   "id": "7bf6418398ae269f"
  },
  {
   "metadata": {},
   "cell_type": "markdown",
   "source": [
    "Датасет состоит из двух файлов: тренировочный набор (около 53к записей) и тестовый набор (около 13к записей). Тренировочный набор содержит целевой признак status, указывающий на то, закрылся стартап или продолжает действовать. Временной период - '1970-01-01' по '2018-01-01'. Дата формирования выгрузки - '2018-01-01'\n",
    "\n",
    "- kaggle_startups_train_01.csv - информация (53 000) стартапах, которые будут использоваться в качестве обучающих данных.\n",
    "- kaggle_startups_test_01.csv - информация (13 000) стартапах, которые будут использоваться в качестве тестовых данных. Наша задача - предсказать значение 'status' для каждого стартапа из этого датасета.\n",
    " - kaggle_startups_sample_submit_01.csv - файл с примером предсказаний в правильном формате.\n",
    "name - идентификатор (название) стартапа в тестовом наборе.\n",
    "status - целевой признак. Для каждого стартапа необходимо предсказать категориальное значение соответствующее прогнозу ['operating', 'closed']."
   ],
   "id": "40481749cc5f6267"
  },
  {
   "metadata": {},
   "cell_type": "markdown",
   "source": "### 0.3.Описание полей данных",
   "id": "9e63cf85b74af6c1"
  },
  {
   "metadata": {},
   "cell_type": "markdown",
   "source": [
    "- name - Название стартапа\n",
    "- category_list - Список категорий, к которым относится стартап\n",
    "- funding_total_usd - Общая сумма финансирования в USD\n",
    "- status - Статус стартапа (закрыт или действующий)\n",
    "- country_code - Код страны\n",
    "- state_code - Код штата\n",
    "- region - Регион\n",
    "- city - Город\n",
    "- funding_rounds - Количество раундов финансирования\n",
    "- founded_at - Дата основания\n",
    "- first_funding_at - Дата первого раунда финансирования\n",
    "- last_funding_at - Дата последнего раунда финансирования\n",
    "- closed_at - Дата закрытия стартапа (если применимо)\n",
    "- lifetime - Время существования стартапа в днях"
   ],
   "id": "130ce676d04844da"
  },
  {
   "metadata": {},
   "cell_type": "markdown",
   "source": "### 0.4.План выполения проекта",
   "id": "7e49af420b1066d6"
  },
  {
   "metadata": {},
   "cell_type": "markdown",
   "source": [
    "- загрузка и ознакомление с данными,\n",
    "- предварительная обработка,\n",
    "- полноценный разведочный анализ,\n",
    "- разработка новых синтетических признаков,\n",
    "- проверка на мультиколлинеарность,\n",
    "- отбор финального набора обучающих признаков,\n",
    "- выбор и обучение моделей,\n",
    "- итоговая оценка качества предсказания лучшей модели,\n",
    "- анализ важности ее признаков,\n",
    "- подготовка отчета по исследованию."
   ],
   "id": "eaead30b5f80292b"
  },
  {
   "metadata": {},
   "cell_type": "markdown",
   "source": "## 1. Загрузка и подготовка данных",
   "id": "a6a9ecab100004c1"
  },
  {
   "metadata": {},
   "cell_type": "markdown",
   "source": "### 1.1. Чтение данных",
   "id": "1b3f3f197e93a66b"
  },
  {
   "metadata": {
    "ExecuteTime": {
     "end_time": "2025-03-26T20:05:27.819882Z",
     "start_time": "2025-03-26T20:05:25.849166Z"
    }
   },
   "cell_type": "code",
   "source": [
    "# Установим необходимые библиотеки\n",
    "!pip install phik\n",
    "!pip install -U scikit-learn"
   ],
   "id": "ff9bee8a70f7e314",
   "outputs": [
    {
     "name": "stdout",
     "output_type": "stream",
     "text": [
      "Requirement already satisfied: phik in /opt/anaconda3/envs/practicum/lib/python3.11/site-packages (0.12.4)\r\n",
      "Requirement already satisfied: numpy>=1.18.0 in /opt/anaconda3/envs/practicum/lib/python3.11/site-packages (from phik) (2.0.2)\r\n",
      "Requirement already satisfied: scipy>=1.5.2 in /opt/anaconda3/envs/practicum/lib/python3.11/site-packages (from phik) (1.14.1)\r\n",
      "Requirement already satisfied: pandas>=0.25.1 in /opt/anaconda3/envs/practicum/lib/python3.11/site-packages (from phik) (2.2.3)\r\n",
      "Requirement already satisfied: matplotlib>=2.2.3 in /opt/anaconda3/envs/practicum/lib/python3.11/site-packages (from phik) (3.10.0)\r\n",
      "Requirement already satisfied: joblib>=0.14.1 in /opt/anaconda3/envs/practicum/lib/python3.11/site-packages (from phik) (1.4.2)\r\n",
      "Requirement already satisfied: contourpy>=1.0.1 in /opt/anaconda3/envs/practicum/lib/python3.11/site-packages (from matplotlib>=2.2.3->phik) (1.3.1)\r\n",
      "Requirement already satisfied: cycler>=0.10 in /opt/anaconda3/envs/practicum/lib/python3.11/site-packages (from matplotlib>=2.2.3->phik) (0.12.1)\r\n",
      "Requirement already satisfied: fonttools>=4.22.0 in /opt/anaconda3/envs/practicum/lib/python3.11/site-packages (from matplotlib>=2.2.3->phik) (4.55.3)\r\n",
      "Requirement already satisfied: kiwisolver>=1.3.1 in /opt/anaconda3/envs/practicum/lib/python3.11/site-packages (from matplotlib>=2.2.3->phik) (1.4.8)\r\n",
      "Requirement already satisfied: packaging>=20.0 in /opt/anaconda3/envs/practicum/lib/python3.11/site-packages (from matplotlib>=2.2.3->phik) (24.2)\r\n",
      "Requirement already satisfied: pillow>=8 in /opt/anaconda3/envs/practicum/lib/python3.11/site-packages (from matplotlib>=2.2.3->phik) (11.1.0)\r\n",
      "Requirement already satisfied: pyparsing>=2.3.1 in /opt/anaconda3/envs/practicum/lib/python3.11/site-packages (from matplotlib>=2.2.3->phik) (3.2.1)\r\n",
      "Requirement already satisfied: python-dateutil>=2.7 in /opt/anaconda3/envs/practicum/lib/python3.11/site-packages (from matplotlib>=2.2.3->phik) (2.9.0.post0)\r\n",
      "Requirement already satisfied: pytz>=2020.1 in /opt/anaconda3/envs/practicum/lib/python3.11/site-packages (from pandas>=0.25.1->phik) (2024.2)\r\n",
      "Requirement already satisfied: tzdata>=2022.7 in /opt/anaconda3/envs/practicum/lib/python3.11/site-packages (from pandas>=0.25.1->phik) (2024.2)\r\n",
      "Requirement already satisfied: six>=1.5 in /opt/anaconda3/envs/practicum/lib/python3.11/site-packages (from python-dateutil>=2.7->matplotlib>=2.2.3->phik) (1.17.0)\r\n",
      "Requirement already satisfied: scikit-learn in /opt/anaconda3/envs/practicum/lib/python3.11/site-packages (1.6.1)\r\n",
      "Requirement already satisfied: numpy>=1.19.5 in /opt/anaconda3/envs/practicum/lib/python3.11/site-packages (from scikit-learn) (2.0.2)\r\n",
      "Requirement already satisfied: scipy>=1.6.0 in /opt/anaconda3/envs/practicum/lib/python3.11/site-packages (from scikit-learn) (1.14.1)\r\n",
      "Requirement already satisfied: joblib>=1.2.0 in /opt/anaconda3/envs/practicum/lib/python3.11/site-packages (from scikit-learn) (1.4.2)\r\n",
      "Requirement already satisfied: threadpoolctl>=3.1.0 in /opt/anaconda3/envs/practicum/lib/python3.11/site-packages (from scikit-learn) (3.5.0)\r\n"
     ]
    }
   ],
   "execution_count": 3
  },
  {
   "cell_type": "code",
   "id": "initial_id",
   "metadata": {
    "collapsed": true,
    "ExecuteTime": {
     "end_time": "2025-03-26T20:05:28.050840Z",
     "start_time": "2025-03-26T20:05:27.826614Z"
    }
   },
   "source": [
    "# Импортируем необходимые библиотеки\n",
    "import pandas as pd\n",
    "import matplotlib.pyplot as plt\n",
    "import math\n",
    "import numpy as np\n",
    "import seaborn as sns\n",
    "\n",
    "from datetime import datetime\n",
    "\n",
    "from scipy import stats as st\n",
    "\n",
    "from sklearn.linear_model import LinearRegression\n",
    "from sklearn.metrics import root_mean_squared_error\n",
    "from sklearn.model_selection import train_test_split\n",
    "from sklearn.preprocessing import MultiLabelBinarizer, OneHotEncoder, TargetEncoder\n",
    "\n",
    "from statsmodels.stats.outliers_influence import variance_inflation_factor\n",
    "from statsmodels.tools.tools import add_constant\n",
    "\n",
    "import phik\n",
    "import os\n",
    "\n",
    "pd.set_option('display.float_format', '{:.2f}'.format)"
   ],
   "outputs": [],
   "execution_count": 4
  },
  {
   "metadata": {
    "ExecuteTime": {
     "end_time": "2025-03-26T20:05:28.060321Z",
     "start_time": "2025-03-26T20:05:28.057870Z"
    }
   },
   "cell_type": "code",
   "source": "RANDOM_STATE = 42",
   "id": "dd2c32f7e002f647",
   "outputs": [],
   "execution_count": 5
  },
  {
   "metadata": {
    "ExecuteTime": {
     "end_time": "2025-03-26T20:05:28.241316Z",
     "start_time": "2025-03-26T20:05:28.071858Z"
    }
   },
   "cell_type": "code",
   "source": [
    "sample_submit = pd.read_csv('kaggle_startups_sample_submit_28062024.csv')\n",
    "test = pd.read_csv('kaggle_startups_test_28062024.csv')\n",
    "train = pd.read_csv('kaggle_startups_train_28062024.csv')"
   ],
   "id": "cd886bdfae71607",
   "outputs": [],
   "execution_count": 6
  },
  {
   "metadata": {
    "ExecuteTime": {
     "end_time": "2025-03-26T20:05:28.248485Z",
     "start_time": "2025-03-26T20:05:28.246158Z"
    }
   },
   "cell_type": "code",
   "source": [
    "# Проверим размеры получившихся датасетов\n",
    "print(sample_submit.shape)\n",
    "print(test.shape)\n",
    "print(train.shape)"
   ],
   "id": "10934b5e6f433b8d",
   "outputs": [
    {
     "name": "stdout",
     "output_type": "stream",
     "text": [
      "(13125, 2)\n",
      "(13125, 11)\n",
      "(52516, 13)\n"
     ]
    }
   ],
   "execution_count": 7
  },
  {
   "metadata": {
    "ExecuteTime": {
     "end_time": "2025-03-26T20:05:28.265181Z",
     "start_time": "2025-03-26T20:05:28.263412Z"
    }
   },
   "cell_type": "code",
   "source": "",
   "id": "3bda661c05e21cdd",
   "outputs": [],
   "execution_count": null
  },
  {
   "metadata": {},
   "cell_type": "markdown",
   "source": "### 1.2. Изучение общей информации о датасетах",
   "id": "bd5b4e475adcc6c5"
  },
  {
   "metadata": {
    "ExecuteTime": {
     "end_time": "2025-03-26T20:05:28.279386Z",
     "start_time": "2025-03-26T20:05:28.275900Z"
    }
   },
   "cell_type": "code",
   "source": [
    "# Создадим функцию для просмотра общей информации о датасетах\n",
    "def overview_data(data):\n",
    "    dash = '-' * 50\n",
    "\n",
    "    print(dash)\n",
    "    print('Основная информация о данных')\n",
    "    print(dash)\n",
    "    print(data.info())\n",
    "    print('\\n')\n",
    "\n",
    "    print(dash)\n",
    "    print('Первые строки данных')\n",
    "    print(dash)\n",
    "    print(data.head())\n",
    "    print('\\n')\n",
    "\n",
    "    print(dash)\n",
    "    print('Описательная статистика')\n",
    "    print(dash)\n",
    "    print(data.describe())\n",
    "    print('\\n')\n",
    "\n",
    "    print(dash)\n",
    "    print('Пропущенные значения')\n",
    "    print(dash)\n",
    "    print(data.isna().sum())\n",
    "    print('\\n')\n",
    "\n",
    "    print(dash)\n",
    "    print('Дубликаты')\n",
    "    print(dash)\n",
    "    print(data.duplicated().sum())\n",
    "    print('\\n')"
   ],
   "id": "8653ec58fdd43637",
   "outputs": [],
   "execution_count": 8
  },
  {
   "metadata": {
    "ExecuteTime": {
     "end_time": "2025-03-26T20:05:28.400232Z",
     "start_time": "2025-03-26T20:05:28.303659Z"
    }
   },
   "cell_type": "code",
   "source": [
    "# Выведем общую информацию о датасете train\n",
    "overview_data(train)"
   ],
   "id": "eb0c797da1923eef",
   "outputs": [
    {
     "name": "stdout",
     "output_type": "stream",
     "text": [
      "--------------------------------------------------\n",
      "Основная информация о данных\n",
      "--------------------------------------------------\n",
      "<class 'pandas.core.frame.DataFrame'>\n",
      "RangeIndex: 52516 entries, 0 to 52515\n",
      "Data columns (total 13 columns):\n",
      " #   Column             Non-Null Count  Dtype  \n",
      "---  ------             --------------  -----  \n",
      " 0   name               52515 non-null  object \n",
      " 1   category_list      50051 non-null  object \n",
      " 2   funding_total_usd  42447 non-null  float64\n",
      " 3   status             52516 non-null  object \n",
      " 4   country_code       47014 non-null  object \n",
      " 5   state_code         45753 non-null  object \n",
      " 6   region             46157 non-null  object \n",
      " 7   city               46157 non-null  object \n",
      " 8   funding_rounds     52516 non-null  int64  \n",
      " 9   founded_at         52516 non-null  object \n",
      " 10  first_funding_at   52516 non-null  object \n",
      " 11  last_funding_at    52516 non-null  object \n",
      " 12  closed_at          4917 non-null   object \n",
      "dtypes: float64(1), int64(1), object(11)\n",
      "memory usage: 5.2+ MB\n",
      "None\n",
      "\n",
      "\n",
      "--------------------------------------------------\n",
      "Первые строки данных\n",
      "--------------------------------------------------\n",
      "                     name                          category_list  \\\n",
      "0               Lunchgate        Online Reservations|Restaurants   \n",
      "1                 EarLens  Manufacturing|Medical|Medical Devices   \n",
      "2  Reviva Pharmaceuticals                          Biotechnology   \n",
      "3    Sancilio and Company                            Health Care   \n",
      "4     WireTough Cylinders                          Manufacturing   \n",
      "\n",
      "   funding_total_usd     status country_code state_code       region  \\\n",
      "0          828626.00  operating          CHE         25       Zurich   \n",
      "1        42935019.00  operating          USA         CA  SF Bay Area   \n",
      "2        35456381.00  operating          USA         CA  SF Bay Area   \n",
      "3        22250000.00  operating          NaN        NaN          NaN   \n",
      "4                NaN  operating          USA         VA   VA - Other   \n",
      "\n",
      "           city  funding_rounds  founded_at first_funding_at last_funding_at  \\\n",
      "0        Zürich               2  2009-10-17       2011-05-01      2014-12-01   \n",
      "1  Redwood City               4  2005-01-01       2010-05-04      2014-02-25   \n",
      "2      San Jose               3  2006-01-01       2012-08-20      2014-07-02   \n",
      "3           NaN               3  2004-01-01       2011-09-01      2014-07-18   \n",
      "4       Bristol               1  2010-05-12       2012-02-01      2012-02-01   \n",
      "\n",
      "  closed_at  \n",
      "0       NaN  \n",
      "1       NaN  \n",
      "2       NaN  \n",
      "3       NaN  \n",
      "4       NaN  \n",
      "\n",
      "\n",
      "--------------------------------------------------\n",
      "Описательная статистика\n",
      "--------------------------------------------------\n",
      "       funding_total_usd  funding_rounds\n",
      "count           42447.00        52516.00\n",
      "mean         18247480.66            1.74\n",
      "std         187117301.32            1.37\n",
      "min                 1.00            1.00\n",
      "25%            336027.50            1.00\n",
      "50%           2000000.00            1.00\n",
      "75%          10000000.00            2.00\n",
      "max       30079503000.00           19.00\n",
      "\n",
      "\n",
      "--------------------------------------------------\n",
      "Пропущенные значения\n",
      "--------------------------------------------------\n",
      "name                     1\n",
      "category_list         2465\n",
      "funding_total_usd    10069\n",
      "status                   0\n",
      "country_code          5502\n",
      "state_code            6763\n",
      "region                6359\n",
      "city                  6359\n",
      "funding_rounds           0\n",
      "founded_at               0\n",
      "first_funding_at         0\n",
      "last_funding_at          0\n",
      "closed_at            47599\n",
      "dtype: int64\n",
      "\n",
      "\n",
      "--------------------------------------------------\n",
      "Дубликаты\n",
      "--------------------------------------------------\n",
      "0\n",
      "\n",
      "\n"
     ]
    }
   ],
   "execution_count": 9
  },
  {
   "metadata": {
    "ExecuteTime": {
     "end_time": "2025-03-26T20:05:28.436470Z",
     "start_time": "2025-03-26T20:05:28.409578Z"
    }
   },
   "cell_type": "code",
   "source": [
    "# Выведем общую информацию о датасете train\n",
    "overview_data(test)"
   ],
   "id": "5cc368ead98c2328",
   "outputs": [
    {
     "name": "stdout",
     "output_type": "stream",
     "text": [
      "--------------------------------------------------\n",
      "Основная информация о данных\n",
      "--------------------------------------------------\n",
      "<class 'pandas.core.frame.DataFrame'>\n",
      "RangeIndex: 13125 entries, 0 to 13124\n",
      "Data columns (total 11 columns):\n",
      " #   Column             Non-Null Count  Dtype  \n",
      "---  ------             --------------  -----  \n",
      " 0   name               13125 non-null  object \n",
      " 1   category_list      12534 non-null  object \n",
      " 2   funding_total_usd  10547 non-null  float64\n",
      " 3   country_code       11743 non-null  object \n",
      " 4   state_code         11430 non-null  object \n",
      " 5   region             11536 non-null  object \n",
      " 6   city               11538 non-null  object \n",
      " 7   funding_rounds     13125 non-null  int64  \n",
      " 8   first_funding_at   13125 non-null  object \n",
      " 9   last_funding_at    13125 non-null  object \n",
      " 10  lifetime           13125 non-null  int64  \n",
      "dtypes: float64(1), int64(2), object(8)\n",
      "memory usage: 1.1+ MB\n",
      "None\n",
      "\n",
      "\n",
      "--------------------------------------------------\n",
      "Первые строки данных\n",
      "--------------------------------------------------\n",
      "                     name                   category_list  funding_total_usd  \\\n",
      "0              Crystalsol                Clean Technology         2819200.00   \n",
      "1        JBI Fish & Wings                     Hospitality                NaN   \n",
      "2                COINPLUS                         Finance          428257.00   \n",
      "3  Imagine Communications  Software|Video|Video Streaming        34700000.00   \n",
      "4                   DNA13                        Software         4530000.00   \n",
      "\n",
      "  country_code state_code            region              city  funding_rounds  \\\n",
      "0          NIC         17               NaN               NaN               1   \n",
      "1          USA         TN        TN - Other          Humboldt               1   \n",
      "2          LUX          3  Esch-sur-alzette  Esch-sur-alzette               2   \n",
      "3          USA         CA         San Diego         San Diego               4   \n",
      "4          CAN         ON            Ottawa            Ottawa               1   \n",
      "\n",
      "  first_funding_at last_funding_at  lifetime  \n",
      "0       2009-07-01      2009-07-01      3501  \n",
      "1       2010-07-28      2010-07-28      2717  \n",
      "2       2014-05-15      2014-09-18      1295  \n",
      "3       2005-01-01      2010-04-20      4748  \n",
      "4       2007-05-08      2007-05-08      6209  \n",
      "\n",
      "\n",
      "--------------------------------------------------\n",
      "Описательная статистика\n",
      "--------------------------------------------------\n",
      "       funding_total_usd  funding_rounds  lifetime\n",
      "count           10547.00        13125.00  13125.00\n",
      "mean         16549102.70            1.71   3097.61\n",
      "std          92172825.63            1.32   2128.36\n",
      "min                 1.00            1.00     52.00\n",
      "25%            320000.00            1.00   1726.00\n",
      "50%           2000000.00            1.00   2526.00\n",
      "75%          10000000.00            2.00   3866.00\n",
      "max        4715000000.00           15.00  17167.00\n",
      "\n",
      "\n",
      "--------------------------------------------------\n",
      "Пропущенные значения\n",
      "--------------------------------------------------\n",
      "name                    0\n",
      "category_list         591\n",
      "funding_total_usd    2578\n",
      "country_code         1382\n",
      "state_code           1695\n",
      "region               1589\n",
      "city                 1587\n",
      "funding_rounds          0\n",
      "first_funding_at        0\n",
      "last_funding_at         0\n",
      "lifetime                0\n",
      "dtype: int64\n",
      "\n",
      "\n",
      "--------------------------------------------------\n",
      "Дубликаты\n",
      "--------------------------------------------------\n",
      "0\n",
      "\n",
      "\n"
     ]
    }
   ],
   "execution_count": 10
  },
  {
   "metadata": {},
   "cell_type": "markdown",
   "source": "## 2. Предобработка данных",
   "id": "c08c63226c570c59"
  },
  {
   "metadata": {},
   "cell_type": "markdown",
   "source": "Будем разбираться с каждой колонкой по отдельности по порядку в датасете train",
   "id": "42fc5d56afcfafb3"
  },
  {
   "metadata": {},
   "cell_type": "markdown",
   "source": "### 2.1.name",
   "id": "88069aeb2d6fbf6a"
  },
  {
   "metadata": {},
   "cell_type": "markdown",
   "source": "В этой колонке у нас все значения уникальны, есть пропуски в одной строке.",
   "id": "8d97664e30a225a3"
  },
  {
   "metadata": {
    "ExecuteTime": {
     "end_time": "2025-03-26T20:05:28.459520Z",
     "start_time": "2025-03-26T20:05:28.446823Z"
    }
   },
   "cell_type": "code",
   "source": [
    "# Посмотрим на нее\n",
    "train[train['name'].isna()].head()"
   ],
   "id": "f954ce4cc21e8fcd",
   "outputs": [
    {
     "data": {
      "text/plain": [
       "     name category_list  funding_total_usd  status country_code state_code  \\\n",
       "3291  NaN      Startups           25000.00  closed          USA         OR   \n",
       "\n",
       "                region      city  funding_rounds  founded_at first_funding_at  \\\n",
       "3291  Portland, Oregon  Portland               1  2011-10-01       2012-03-01   \n",
       "\n",
       "     last_funding_at   closed_at  \n",
       "3291      2012-03-01  2013-06-03  "
      ],
      "text/html": [
       "<div>\n",
       "<style scoped>\n",
       "    .dataframe tbody tr th:only-of-type {\n",
       "        vertical-align: middle;\n",
       "    }\n",
       "\n",
       "    .dataframe tbody tr th {\n",
       "        vertical-align: top;\n",
       "    }\n",
       "\n",
       "    .dataframe thead th {\n",
       "        text-align: right;\n",
       "    }\n",
       "</style>\n",
       "<table border=\"1\" class=\"dataframe\">\n",
       "  <thead>\n",
       "    <tr style=\"text-align: right;\">\n",
       "      <th></th>\n",
       "      <th>name</th>\n",
       "      <th>category_list</th>\n",
       "      <th>funding_total_usd</th>\n",
       "      <th>status</th>\n",
       "      <th>country_code</th>\n",
       "      <th>state_code</th>\n",
       "      <th>region</th>\n",
       "      <th>city</th>\n",
       "      <th>funding_rounds</th>\n",
       "      <th>founded_at</th>\n",
       "      <th>first_funding_at</th>\n",
       "      <th>last_funding_at</th>\n",
       "      <th>closed_at</th>\n",
       "    </tr>\n",
       "  </thead>\n",
       "  <tbody>\n",
       "    <tr>\n",
       "      <th>3291</th>\n",
       "      <td>NaN</td>\n",
       "      <td>Startups</td>\n",
       "      <td>25000.00</td>\n",
       "      <td>closed</td>\n",
       "      <td>USA</td>\n",
       "      <td>OR</td>\n",
       "      <td>Portland, Oregon</td>\n",
       "      <td>Portland</td>\n",
       "      <td>1</td>\n",
       "      <td>2011-10-01</td>\n",
       "      <td>2012-03-01</td>\n",
       "      <td>2012-03-01</td>\n",
       "      <td>2013-06-03</td>\n",
       "    </tr>\n",
       "  </tbody>\n",
       "</table>\n",
       "</div>"
      ]
     },
     "execution_count": 11,
     "metadata": {},
     "output_type": "execute_result"
    }
   ],
   "execution_count": 11
  },
  {
   "metadata": {
    "ExecuteTime": {
     "end_time": "2025-03-26T20:05:28.508965Z",
     "start_time": "2025-03-26T20:05:28.502081Z"
    }
   },
   "cell_type": "code",
   "source": [
    "# Заменим пропущенное значение на other\n",
    "train['name'] = train['name'].fillna('other')"
   ],
   "id": "b1ec23038e835ed3",
   "outputs": [],
   "execution_count": 12
  },
  {
   "metadata": {},
   "cell_type": "markdown",
   "source": "### 2.2.category_list",
   "id": "91d1482d9d5087b3"
  },
  {
   "metadata": {},
   "cell_type": "markdown",
   "source": "В этой колонке у нас есть пропуски и в некоторых стартапах встречаются несколько категорий разделенных '|'.  Найдем все уникальные категории, и создадим для каждого отдельный столбец. Обозначим 1 если стартап в этой категории и 0 - если нет. Для пропущенных значений создадим категорию other. Попробывал все уникальные категории выделить столбцами, получилось около 800 столбцов. Думаю это слишком много. Буду выбирать только корневую категорию.",
   "id": "d50e38f876af8979"
  },
  {
   "metadata": {
    "ExecuteTime": {
     "end_time": "2025-03-26T20:05:28.565355Z",
     "start_time": "2025-03-26T20:05:28.555147Z"
    }
   },
   "cell_type": "code",
   "source": [
    "# Приведем все категории к нижнему регистру\n",
    "train['category_list'] = train['category_list'].str.lower()"
   ],
   "id": "61f90739c0b6672e",
   "outputs": [],
   "execution_count": 13
  },
  {
   "metadata": {
    "ExecuteTime": {
     "end_time": "2025-03-26T20:05:28.610271Z",
     "start_time": "2025-03-26T20:05:28.602132Z"
    }
   },
   "cell_type": "code",
   "source": [
    "# Заполним пропуски other\n",
    "train['category_list'] = train['category_list'].fillna('other')"
   ],
   "id": "e0bd81b84d4fc30",
   "outputs": [],
   "execution_count": 14
  },
  {
   "metadata": {
    "ExecuteTime": {
     "end_time": "2025-03-26T20:05:29.207997Z",
     "start_time": "2025-03-26T20:05:28.639758Z"
    }
   },
   "cell_type": "code",
   "source": [
    "# Разделим строки по разделителю и выбираем корневую категорию\n",
    "split_categories = train['category_list'].str.split('|')\n",
    "\n",
    "# Создадим бинаризатор\n",
    "mlb = MultiLabelBinarizer()\n",
    "\n",
    "# Применяем и создадим датафрейм с полученными категориями\n",
    "categories = pd.DataFrame(mlb.fit_transform(split_categories),\n",
    "                         columns=mlb.classes_,\n",
    "                         index=train.index)\n",
    "\n",
    "# Объединяем с исходными данными\n",
    "train = pd.concat([train, categories], axis=1)"
   ],
   "id": "95f6d7b2179387ba",
   "outputs": [],
   "execution_count": 15
  },
  {
   "metadata": {
    "ExecuteTime": {
     "end_time": "2025-03-26T20:05:29.244005Z",
     "start_time": "2025-03-26T20:05:29.238461Z"
    }
   },
   "cell_type": "code",
   "source": [
    "# Проверим размер полученного датасета\n",
    "train.shape"
   ],
   "id": "4933bfd130c605e7",
   "outputs": [
    {
     "data": {
      "text/plain": [
       "(52516, 868)"
      ]
     },
     "execution_count": 16,
     "metadata": {},
     "output_type": "execute_result"
    }
   ],
   "execution_count": 16
  },
  {
   "metadata": {},
   "cell_type": "markdown",
   "source": "### 2.3.funding_total_usd",
   "id": "5d2bcb6022888ac8"
  },
  {
   "metadata": {},
   "cell_type": "markdown",
   "source": "В этой колонке мы можем заменить тип на int т.к. это сумма финансирования в долларах, суммы большие поэтому центы в сумме ни на что не повлияют. Также в колонке есть пропуски, возможно это связано с тем, что компании просто не получали финансирования а использовали свои средства, поэтому заменим пропуски нулями.",
   "id": "38134b29ad99cc57"
  },
  {
   "metadata": {
    "ExecuteTime": {
     "end_time": "2025-03-26T20:05:29.272491Z",
     "start_time": "2025-03-26T20:05:29.268173Z"
    }
   },
   "cell_type": "code",
   "source": [
    "# Заменим пропуски на 0\n",
    "train['funding_total_usd'] = train['funding_total_usd'].fillna(0)"
   ],
   "id": "9d3a1ce92675f7bb",
   "outputs": [],
   "execution_count": 17
  },
  {
   "metadata": {
    "ExecuteTime": {
     "end_time": "2025-03-26T20:05:29.290556Z",
     "start_time": "2025-03-26T20:05:29.288052Z"
    }
   },
   "cell_type": "code",
   "source": [
    "# Заменим тип данных на int\n",
    "train['funding_total_usd'] = train['funding_total_usd'].astype(int)"
   ],
   "id": "66afebf9a592dea4",
   "outputs": [],
   "execution_count": 18
  },
  {
   "metadata": {},
   "cell_type": "markdown",
   "source": "### 2.4.country_code, state_code, region, city",
   "id": "18da6abc0d0b9a2f"
  },
  {
   "metadata": {},
   "cell_type": "markdown",
   "source": "В этих колонках присутствуют пропуски. Заменим их на other",
   "id": "f0b907341102d430"
  },
  {
   "metadata": {
    "ExecuteTime": {
     "end_time": "2025-03-26T20:05:29.346028Z",
     "start_time": "2025-03-26T20:05:29.316215Z"
    }
   },
   "cell_type": "code",
   "source": [
    "# Заменим пропущенные значение на other\n",
    "cols_to_fill = ['country_code', 'state_code', 'region', 'city']\n",
    "train[cols_to_fill] = train[cols_to_fill].fillna('other')"
   ],
   "id": "c6b75ee5391b1651",
   "outputs": [],
   "execution_count": 19
  },
  {
   "metadata": {},
   "cell_type": "markdown",
   "source": "### 2.5.founded_at, first_funding_at, last_funding_at, closed_at",
   "id": "120d997e92c8f16d"
  },
  {
   "metadata": {},
   "cell_type": "markdown",
   "source": "В этих колонках не верный тип данных object вместо datetime. Изменим тип данных на верный. Также есть пропуски в колонке closed_at - думаю это означает то, что компания до сих пор существует. Также в датасете тест есть колонка lifetime которой нет в датасете train. Создадим ее как разницу между датой закрытия компании и датой основания.",
   "id": "8d0f6af04dda2b29"
  },
  {
   "metadata": {
    "ExecuteTime": {
     "end_time": "2025-03-26T20:05:29.385552Z",
     "start_time": "2025-03-26T20:05:29.349581Z"
    }
   },
   "cell_type": "code",
   "source": [
    "# Приведем все даты к нужному типу\n",
    "date_cols = ['founded_at', 'first_funding_at', 'last_funding_at', 'closed_at']\n",
    "train[date_cols] = train[date_cols].apply(pd.to_datetime, errors='coerce')"
   ],
   "id": "f1668b467154a3f5",
   "outputs": [],
   "execution_count": 20
  },
  {
   "metadata": {
    "ExecuteTime": {
     "end_time": "2025-03-26T20:05:29.402643Z",
     "start_time": "2025-03-26T20:05:29.399085Z"
    }
   },
   "cell_type": "code",
   "source": [
    "# Заполним пропуски в столбце closed_at текущей датой\n",
    "train['closed_at'] = train['closed_at'].fillna(pd.to_datetime(datetime.now().date()))"
   ],
   "id": "3fff745b2ea45d80",
   "outputs": [],
   "execution_count": 21
  },
  {
   "metadata": {
    "ExecuteTime": {
     "end_time": "2025-03-26T20:05:29.420229Z",
     "start_time": "2025-03-26T20:05:29.415138Z"
    }
   },
   "cell_type": "code",
   "source": [
    "# Создадим стобец lifetime\n",
    "train['lifetime'] = (train['closed_at'] - train['founded_at']).dt.days"
   ],
   "id": "ed1745779dc14258",
   "outputs": [],
   "execution_count": 22
  },
  {
   "metadata": {
    "ExecuteTime": {
     "end_time": "2025-03-26T20:05:29.669791Z",
     "start_time": "2025-03-26T20:05:29.433360Z"
    }
   },
   "cell_type": "code",
   "source": [
    "# Удалим лишние столбцы после трансвформаций\n",
    "# Список столбцов для удаления\n",
    "columns_to_drop = ['category_list', 'founded_at', 'closed_at']\n",
    "train = train.drop(columns=columns_to_drop)"
   ],
   "id": "e51e9ef7d9a3a62f",
   "outputs": [],
   "execution_count": 23
  },
  {
   "metadata": {},
   "cell_type": "markdown",
   "source": "## 3.Анализ признаков",
   "id": "3c9944b06517d917"
  },
  {
   "metadata": {
    "ExecuteTime": {
     "end_time": "2025-03-26T20:05:29.703847Z",
     "start_time": "2025-03-26T20:05:29.685435Z"
    }
   },
   "cell_type": "code",
   "source": [
    "# Создадим датасет для анализа признаков без бинаризированных\n",
    "train_b = train.drop(columns=categories.columns).copy()\n",
    "train_b = train_b.drop(columns='name')"
   ],
   "id": "260c89b4b334c636",
   "outputs": [],
   "execution_count": 24
  },
  {
   "metadata": {
    "ExecuteTime": {
     "end_time": "2025-03-26T20:05:29.725863Z",
     "start_time": "2025-03-26T20:05:29.718766Z"
    }
   },
   "cell_type": "code",
   "source": "train_b.head()",
   "id": "1e83ecb9ae0198c4",
   "outputs": [
    {
     "data": {
      "text/plain": [
       "   funding_total_usd     status country_code state_code       region  \\\n",
       "0             828626  operating          CHE         25       Zurich   \n",
       "1           42935019  operating          USA         CA  SF Bay Area   \n",
       "2           35456381  operating          USA         CA  SF Bay Area   \n",
       "3           22250000  operating        other      other        other   \n",
       "4                  0  operating          USA         VA   VA - Other   \n",
       "\n",
       "           city  funding_rounds first_funding_at last_funding_at  lifetime  \n",
       "0        Zürich               2       2011-05-01      2014-12-01      5639  \n",
       "1  Redwood City               4       2010-05-04      2014-02-25      7389  \n",
       "2      San Jose               3       2012-08-20      2014-07-02      7024  \n",
       "3         other               3       2011-09-01      2014-07-18      7755  \n",
       "4       Bristol               1       2012-02-01      2012-02-01      5432  "
      ],
      "text/html": [
       "<div>\n",
       "<style scoped>\n",
       "    .dataframe tbody tr th:only-of-type {\n",
       "        vertical-align: middle;\n",
       "    }\n",
       "\n",
       "    .dataframe tbody tr th {\n",
       "        vertical-align: top;\n",
       "    }\n",
       "\n",
       "    .dataframe thead th {\n",
       "        text-align: right;\n",
       "    }\n",
       "</style>\n",
       "<table border=\"1\" class=\"dataframe\">\n",
       "  <thead>\n",
       "    <tr style=\"text-align: right;\">\n",
       "      <th></th>\n",
       "      <th>funding_total_usd</th>\n",
       "      <th>status</th>\n",
       "      <th>country_code</th>\n",
       "      <th>state_code</th>\n",
       "      <th>region</th>\n",
       "      <th>city</th>\n",
       "      <th>funding_rounds</th>\n",
       "      <th>first_funding_at</th>\n",
       "      <th>last_funding_at</th>\n",
       "      <th>lifetime</th>\n",
       "    </tr>\n",
       "  </thead>\n",
       "  <tbody>\n",
       "    <tr>\n",
       "      <th>0</th>\n",
       "      <td>828626</td>\n",
       "      <td>operating</td>\n",
       "      <td>CHE</td>\n",
       "      <td>25</td>\n",
       "      <td>Zurich</td>\n",
       "      <td>Zürich</td>\n",
       "      <td>2</td>\n",
       "      <td>2011-05-01</td>\n",
       "      <td>2014-12-01</td>\n",
       "      <td>5639</td>\n",
       "    </tr>\n",
       "    <tr>\n",
       "      <th>1</th>\n",
       "      <td>42935019</td>\n",
       "      <td>operating</td>\n",
       "      <td>USA</td>\n",
       "      <td>CA</td>\n",
       "      <td>SF Bay Area</td>\n",
       "      <td>Redwood City</td>\n",
       "      <td>4</td>\n",
       "      <td>2010-05-04</td>\n",
       "      <td>2014-02-25</td>\n",
       "      <td>7389</td>\n",
       "    </tr>\n",
       "    <tr>\n",
       "      <th>2</th>\n",
       "      <td>35456381</td>\n",
       "      <td>operating</td>\n",
       "      <td>USA</td>\n",
       "      <td>CA</td>\n",
       "      <td>SF Bay Area</td>\n",
       "      <td>San Jose</td>\n",
       "      <td>3</td>\n",
       "      <td>2012-08-20</td>\n",
       "      <td>2014-07-02</td>\n",
       "      <td>7024</td>\n",
       "    </tr>\n",
       "    <tr>\n",
       "      <th>3</th>\n",
       "      <td>22250000</td>\n",
       "      <td>operating</td>\n",
       "      <td>other</td>\n",
       "      <td>other</td>\n",
       "      <td>other</td>\n",
       "      <td>other</td>\n",
       "      <td>3</td>\n",
       "      <td>2011-09-01</td>\n",
       "      <td>2014-07-18</td>\n",
       "      <td>7755</td>\n",
       "    </tr>\n",
       "    <tr>\n",
       "      <th>4</th>\n",
       "      <td>0</td>\n",
       "      <td>operating</td>\n",
       "      <td>USA</td>\n",
       "      <td>VA</td>\n",
       "      <td>VA - Other</td>\n",
       "      <td>Bristol</td>\n",
       "      <td>1</td>\n",
       "      <td>2012-02-01</td>\n",
       "      <td>2012-02-01</td>\n",
       "      <td>5432</td>\n",
       "    </tr>\n",
       "  </tbody>\n",
       "</table>\n",
       "</div>"
      ]
     },
     "execution_count": 25,
     "metadata": {},
     "output_type": "execute_result"
    }
   ],
   "execution_count": 25
  },
  {
   "metadata": {
    "ExecuteTime": {
     "end_time": "2025-03-26T20:05:29.745719Z",
     "start_time": "2025-03-26T20:05:29.741462Z"
    }
   },
   "cell_type": "code",
   "source": [
    "# Функция построения диаграмм для числовых признаков\n",
    "def num_diag(data, x, xlabel, ylabel, hue=None):\n",
    "    fig, axes = plt.subplots(1, 2, figsize=(16, 6))\n",
    "\n",
    "    sns.histplot(\n",
    "        data=data,\n",
    "        x=x,\n",
    "        hue=hue,\n",
    "        ax=axes[0],\n",
    "        stat=\"density\",\n",
    "        common_norm=False\n",
    "    )\n",
    "    axes[0].set_title(f'Гистограмма по {xlabel}')\n",
    "    axes[0].set_xlabel(xlabel)\n",
    "    axes[0].set_ylabel(ylabel)\n",
    "\n",
    "    sns.boxplot(\n",
    "        data=data,\n",
    "        x=x,\n",
    "        ax=axes[1]\n",
    "    )\n",
    "    axes[1].set_title(f'Диаграмма размаха {xlabel}')\n",
    "    axes[1].set_xlabel(xlabel)\n",
    "    axes[1].set_ylabel(ylabel)\n",
    "\n",
    "    plt.tight_layout()\n",
    "    plt.show()"
   ],
   "id": "a30998ac8301b95d",
   "outputs": [],
   "execution_count": 26
  },
  {
   "metadata": {
    "ExecuteTime": {
     "end_time": "2025-03-26T20:05:29.778215Z",
     "start_time": "2025-03-26T20:05:29.773928Z"
    }
   },
   "cell_type": "code",
   "source": [
    "# Функция построения диаграмм для категориальных признаков\n",
    "def cat_diag(data, x, xlabel, hue=None):\n",
    "    fig, axes = plt.subplots(1, 2, figsize=(16, 6))\n",
    "\n",
    "    sns.countplot(\n",
    "        data=data,\n",
    "        x=x,\n",
    "        hue=hue,\n",
    "        ax=axes[0]\n",
    "    )\n",
    "    axes[0].set_title(f'Диаграмма по {xlabel}')\n",
    "    axes[0].set_ylabel('Количество')\n",
    "    axes[0].set_xlabel(xlabel)\n",
    "    axes[0].tick_params(axis='x', rotation=45)\n",
    "\n",
    "    data[x].value_counts(normalize=True).plot(\n",
    "        kind='pie',\n",
    "        labels=data[x].value_counts(normalize=True).index,\n",
    "        legend=False,\n",
    "        autopct='%1.0f%%',\n",
    "        ax=axes[1]\n",
    "    )\n",
    "    axes[1].set_title(f'Распределение долей {xlabel}')\n",
    "    axes[1].set_ylabel('')\n",
    "\n",
    "    plt.tight_layout()\n",
    "    plt.show()"
   ],
   "id": "e3746c8b6ffe4a3f",
   "outputs": [],
   "execution_count": 27
  },
  {
   "metadata": {
    "ExecuteTime": {
     "end_time": "2025-03-26T20:05:29.826316Z",
     "start_time": "2025-03-26T20:05:29.821923Z"
    }
   },
   "cell_type": "code",
   "source": [
    "# Создадим функцию для автоматической визуализации признаков в зависимости от типа колонки\n",
    "def all_diag(df, column_type='numeric', hue=None):\n",
    "    if column_type == 'numeric':\n",
    "        columns = df.select_dtypes(include='number').columns\n",
    "    elif column_type == 'categorical':\n",
    "        columns = df.select_dtypes(include='object').columns\n",
    "\n",
    "    for col in columns:\n",
    "        if column_type == 'numeric':\n",
    "            print(f\"Визуализация численного признака: {col}\")\n",
    "            num_diag(df, x=col, xlabel=col, ylabel='Плотность распределения', hue=hue)\n",
    "        elif column_type == 'categorical':\n",
    "            print(f\"Визуализация категориального признака: {col}\")\n",
    "            cat_diag(df, x=col, xlabel=col, hue=hue)"
   ],
   "id": "27e84f2f92519169",
   "outputs": [],
   "execution_count": 28
  },
  {
   "metadata": {},
   "cell_type": "markdown",
   "source": "### 3.1.Анализ числовых признаков",
   "id": "3a7078b28297e7ec"
  },
  {
   "metadata": {
    "ExecuteTime": {
     "end_time": "2025-03-26T20:05:29.878837Z",
     "start_time": "2025-03-26T20:05:29.876605Z"
    }
   },
   "cell_type": "code",
   "source": "# all_diag(train_b, column_type='numeric', hue=None)",
   "id": "360e893ab9786ecb",
   "outputs": [],
   "execution_count": 29
  },
  {
   "metadata": {},
   "cell_type": "markdown",
   "source": "## 3.Создание новых признаков",
   "id": "8d8ad69674b140b9"
  },
  {
   "metadata": {
    "ExecuteTime": {
     "end_time": "2025-03-26T20:05:29.914865Z",
     "start_time": "2025-03-26T20:05:29.912372Z"
    }
   },
   "cell_type": "code",
   "source": "date_cols2 = ['first_funding_at', 'last_funding_at']",
   "id": "991967d348f7bf5",
   "outputs": [],
   "execution_count": 30
  },
  {
   "metadata": {
    "ExecuteTime": {
     "end_time": "2025-03-26T20:05:29.940356Z",
     "start_time": "2025-03-26T20:05:29.919333Z"
    }
   },
   "cell_type": "code",
   "source": [
    "for col in date_cols2:\n",
    "    train_b[f'{col}_year'] = train_b[col].dt.year\n",
    "    train_b[f'{col}_month'] = train_b[col].dt.month\n",
    "    train_b[f'{col}_day'] = train_b[col].dt.day"
   ],
   "id": "153f8caadd4c1eb0",
   "outputs": [],
   "execution_count": 31
  },
  {
   "metadata": {
    "ExecuteTime": {
     "end_time": "2025-03-26T20:05:29.976838Z",
     "start_time": "2025-03-26T20:05:29.955507Z"
    }
   },
   "cell_type": "code",
   "source": [
    "for col in date_cols2:\n",
    "    train[f'{col}_year'] = train[col].dt.year\n",
    "    train[f'{col}_month'] = train[col].dt.month\n",
    "    train[f'{col}_day'] = train[col].dt.day"
   ],
   "id": "69fa6d8e81d35d36",
   "outputs": [],
   "execution_count": 32
  },
  {
   "metadata": {},
   "cell_type": "markdown",
   "source": "### 3.2.Анализ категориальных признаков",
   "id": "21a58b4090c2495b"
  },
  {
   "metadata": {
    "ExecuteTime": {
     "end_time": "2025-03-26T20:05:29.993007Z",
     "start_time": "2025-03-26T20:05:29.991083Z"
    }
   },
   "cell_type": "code",
   "source": "# all_diag(train_b, column_type='categorical', hue=None)",
   "id": "9cb2abc8dfce6f96",
   "outputs": [],
   "execution_count": 33
  },
  {
   "metadata": {},
   "cell_type": "markdown",
   "source": "## 4. Корреляционный анализ",
   "id": "4d6e1ff6f98f1bc0"
  },
  {
   "metadata": {
    "ExecuteTime": {
     "end_time": "2025-03-26T20:05:30.012563Z",
     "start_time": "2025-03-26T20:05:30.006996Z"
    }
   },
   "cell_type": "code",
   "source": [
    "# Построим матрицу корреляции между признаками в датасете train_b\n",
    "train_b = train_b.drop(columns=date_cols2)"
   ],
   "id": "56ad7a08552a2224",
   "outputs": [],
   "execution_count": 34
  },
  {
   "metadata": {
    "ExecuteTime": {
     "end_time": "2025-03-26T20:05:30.073823Z",
     "start_time": "2025-03-26T20:05:30.027903Z"
    }
   },
   "cell_type": "code",
   "source": [
    "train_b = train_b.select_dtypes(include='number')  # перезаписываем датафрейм, оставляя только числа\n",
    "display(train_b.corr('spearman'))"
   ],
   "id": "814eedcd373c5434",
   "outputs": [
    {
     "data": {
      "text/plain": [
       "                        funding_total_usd  funding_rounds  lifetime  \\\n",
       "funding_total_usd                    1.00            0.50      0.34   \n",
       "funding_rounds                       0.50            1.00      0.20   \n",
       "lifetime                             0.34            0.20      1.00   \n",
       "first_funding_at_year               -0.33           -0.29     -0.56   \n",
       "first_funding_at_month               0.01           -0.02     -0.01   \n",
       "first_funding_at_day                 0.10           -0.06      0.05   \n",
       "last_funding_at_year                -0.03            0.19     -0.40   \n",
       "last_funding_at_month                0.04            0.03     -0.01   \n",
       "last_funding_at_day                  0.17            0.07      0.07   \n",
       "\n",
       "                        first_funding_at_year  first_funding_at_month  \\\n",
       "funding_total_usd                       -0.33                    0.01   \n",
       "funding_rounds                          -0.29                   -0.02   \n",
       "lifetime                                -0.56                   -0.01   \n",
       "first_funding_at_year                    1.00                   -0.02   \n",
       "first_funding_at_month                  -0.02                    1.00   \n",
       "first_funding_at_day                     0.07                    0.10   \n",
       "last_funding_at_year                     0.80                   -0.01   \n",
       "last_funding_at_month                   -0.00                    0.65   \n",
       "last_funding_at_day                      0.02                    0.07   \n",
       "\n",
       "                        first_funding_at_day  last_funding_at_year  \\\n",
       "funding_total_usd                       0.10                 -0.03   \n",
       "funding_rounds                         -0.06                  0.19   \n",
       "lifetime                                0.05                 -0.40   \n",
       "first_funding_at_year                   0.07                  0.80   \n",
       "first_funding_at_month                  0.10                 -0.01   \n",
       "first_funding_at_day                    1.00                  0.05   \n",
       "last_funding_at_year                    0.05                  1.00   \n",
       "last_funding_at_month                   0.06                 -0.03   \n",
       "last_funding_at_day                     0.69                  0.08   \n",
       "\n",
       "                        last_funding_at_month  last_funding_at_day  \n",
       "funding_total_usd                        0.04                 0.17  \n",
       "funding_rounds                           0.03                 0.07  \n",
       "lifetime                                -0.01                 0.07  \n",
       "first_funding_at_year                   -0.00                 0.02  \n",
       "first_funding_at_month                   0.65                 0.07  \n",
       "first_funding_at_day                     0.06                 0.69  \n",
       "last_funding_at_year                    -0.03                 0.08  \n",
       "last_funding_at_month                    1.00                 0.06  \n",
       "last_funding_at_day                      0.06                 1.00  "
      ],
      "text/html": [
       "<div>\n",
       "<style scoped>\n",
       "    .dataframe tbody tr th:only-of-type {\n",
       "        vertical-align: middle;\n",
       "    }\n",
       "\n",
       "    .dataframe tbody tr th {\n",
       "        vertical-align: top;\n",
       "    }\n",
       "\n",
       "    .dataframe thead th {\n",
       "        text-align: right;\n",
       "    }\n",
       "</style>\n",
       "<table border=\"1\" class=\"dataframe\">\n",
       "  <thead>\n",
       "    <tr style=\"text-align: right;\">\n",
       "      <th></th>\n",
       "      <th>funding_total_usd</th>\n",
       "      <th>funding_rounds</th>\n",
       "      <th>lifetime</th>\n",
       "      <th>first_funding_at_year</th>\n",
       "      <th>first_funding_at_month</th>\n",
       "      <th>first_funding_at_day</th>\n",
       "      <th>last_funding_at_year</th>\n",
       "      <th>last_funding_at_month</th>\n",
       "      <th>last_funding_at_day</th>\n",
       "    </tr>\n",
       "  </thead>\n",
       "  <tbody>\n",
       "    <tr>\n",
       "      <th>funding_total_usd</th>\n",
       "      <td>1.00</td>\n",
       "      <td>0.50</td>\n",
       "      <td>0.34</td>\n",
       "      <td>-0.33</td>\n",
       "      <td>0.01</td>\n",
       "      <td>0.10</td>\n",
       "      <td>-0.03</td>\n",
       "      <td>0.04</td>\n",
       "      <td>0.17</td>\n",
       "    </tr>\n",
       "    <tr>\n",
       "      <th>funding_rounds</th>\n",
       "      <td>0.50</td>\n",
       "      <td>1.00</td>\n",
       "      <td>0.20</td>\n",
       "      <td>-0.29</td>\n",
       "      <td>-0.02</td>\n",
       "      <td>-0.06</td>\n",
       "      <td>0.19</td>\n",
       "      <td>0.03</td>\n",
       "      <td>0.07</td>\n",
       "    </tr>\n",
       "    <tr>\n",
       "      <th>lifetime</th>\n",
       "      <td>0.34</td>\n",
       "      <td>0.20</td>\n",
       "      <td>1.00</td>\n",
       "      <td>-0.56</td>\n",
       "      <td>-0.01</td>\n",
       "      <td>0.05</td>\n",
       "      <td>-0.40</td>\n",
       "      <td>-0.01</td>\n",
       "      <td>0.07</td>\n",
       "    </tr>\n",
       "    <tr>\n",
       "      <th>first_funding_at_year</th>\n",
       "      <td>-0.33</td>\n",
       "      <td>-0.29</td>\n",
       "      <td>-0.56</td>\n",
       "      <td>1.00</td>\n",
       "      <td>-0.02</td>\n",
       "      <td>0.07</td>\n",
       "      <td>0.80</td>\n",
       "      <td>-0.00</td>\n",
       "      <td>0.02</td>\n",
       "    </tr>\n",
       "    <tr>\n",
       "      <th>first_funding_at_month</th>\n",
       "      <td>0.01</td>\n",
       "      <td>-0.02</td>\n",
       "      <td>-0.01</td>\n",
       "      <td>-0.02</td>\n",
       "      <td>1.00</td>\n",
       "      <td>0.10</td>\n",
       "      <td>-0.01</td>\n",
       "      <td>0.65</td>\n",
       "      <td>0.07</td>\n",
       "    </tr>\n",
       "    <tr>\n",
       "      <th>first_funding_at_day</th>\n",
       "      <td>0.10</td>\n",
       "      <td>-0.06</td>\n",
       "      <td>0.05</td>\n",
       "      <td>0.07</td>\n",
       "      <td>0.10</td>\n",
       "      <td>1.00</td>\n",
       "      <td>0.05</td>\n",
       "      <td>0.06</td>\n",
       "      <td>0.69</td>\n",
       "    </tr>\n",
       "    <tr>\n",
       "      <th>last_funding_at_year</th>\n",
       "      <td>-0.03</td>\n",
       "      <td>0.19</td>\n",
       "      <td>-0.40</td>\n",
       "      <td>0.80</td>\n",
       "      <td>-0.01</td>\n",
       "      <td>0.05</td>\n",
       "      <td>1.00</td>\n",
       "      <td>-0.03</td>\n",
       "      <td>0.08</td>\n",
       "    </tr>\n",
       "    <tr>\n",
       "      <th>last_funding_at_month</th>\n",
       "      <td>0.04</td>\n",
       "      <td>0.03</td>\n",
       "      <td>-0.01</td>\n",
       "      <td>-0.00</td>\n",
       "      <td>0.65</td>\n",
       "      <td>0.06</td>\n",
       "      <td>-0.03</td>\n",
       "      <td>1.00</td>\n",
       "      <td>0.06</td>\n",
       "    </tr>\n",
       "    <tr>\n",
       "      <th>last_funding_at_day</th>\n",
       "      <td>0.17</td>\n",
       "      <td>0.07</td>\n",
       "      <td>0.07</td>\n",
       "      <td>0.02</td>\n",
       "      <td>0.07</td>\n",
       "      <td>0.69</td>\n",
       "      <td>0.08</td>\n",
       "      <td>0.06</td>\n",
       "      <td>1.00</td>\n",
       "    </tr>\n",
       "  </tbody>\n",
       "</table>\n",
       "</div>"
      ]
     },
     "metadata": {},
     "output_type": "display_data"
    }
   ],
   "execution_count": 35
  },
  {
   "metadata": {
    "ExecuteTime": {
     "end_time": "2025-03-26T20:05:30.094129Z",
     "start_time": "2025-03-26T20:05:30.088963Z"
    }
   },
   "cell_type": "code",
   "source": "train_b.head()",
   "id": "7ba086234d871e9a",
   "outputs": [
    {
     "data": {
      "text/plain": [
       "   funding_total_usd  funding_rounds  lifetime  first_funding_at_year  \\\n",
       "0             828626               2      5639                   2011   \n",
       "1           42935019               4      7389                   2010   \n",
       "2           35456381               3      7024                   2012   \n",
       "3           22250000               3      7755                   2011   \n",
       "4                  0               1      5432                   2012   \n",
       "\n",
       "   first_funding_at_month  first_funding_at_day  last_funding_at_year  \\\n",
       "0                       5                     1                  2014   \n",
       "1                       5                     4                  2014   \n",
       "2                       8                    20                  2014   \n",
       "3                       9                     1                  2014   \n",
       "4                       2                     1                  2012   \n",
       "\n",
       "   last_funding_at_month  last_funding_at_day  \n",
       "0                     12                    1  \n",
       "1                      2                   25  \n",
       "2                      7                    2  \n",
       "3                      7                   18  \n",
       "4                      2                    1  "
      ],
      "text/html": [
       "<div>\n",
       "<style scoped>\n",
       "    .dataframe tbody tr th:only-of-type {\n",
       "        vertical-align: middle;\n",
       "    }\n",
       "\n",
       "    .dataframe tbody tr th {\n",
       "        vertical-align: top;\n",
       "    }\n",
       "\n",
       "    .dataframe thead th {\n",
       "        text-align: right;\n",
       "    }\n",
       "</style>\n",
       "<table border=\"1\" class=\"dataframe\">\n",
       "  <thead>\n",
       "    <tr style=\"text-align: right;\">\n",
       "      <th></th>\n",
       "      <th>funding_total_usd</th>\n",
       "      <th>funding_rounds</th>\n",
       "      <th>lifetime</th>\n",
       "      <th>first_funding_at_year</th>\n",
       "      <th>first_funding_at_month</th>\n",
       "      <th>first_funding_at_day</th>\n",
       "      <th>last_funding_at_year</th>\n",
       "      <th>last_funding_at_month</th>\n",
       "      <th>last_funding_at_day</th>\n",
       "    </tr>\n",
       "  </thead>\n",
       "  <tbody>\n",
       "    <tr>\n",
       "      <th>0</th>\n",
       "      <td>828626</td>\n",
       "      <td>2</td>\n",
       "      <td>5639</td>\n",
       "      <td>2011</td>\n",
       "      <td>5</td>\n",
       "      <td>1</td>\n",
       "      <td>2014</td>\n",
       "      <td>12</td>\n",
       "      <td>1</td>\n",
       "    </tr>\n",
       "    <tr>\n",
       "      <th>1</th>\n",
       "      <td>42935019</td>\n",
       "      <td>4</td>\n",
       "      <td>7389</td>\n",
       "      <td>2010</td>\n",
       "      <td>5</td>\n",
       "      <td>4</td>\n",
       "      <td>2014</td>\n",
       "      <td>2</td>\n",
       "      <td>25</td>\n",
       "    </tr>\n",
       "    <tr>\n",
       "      <th>2</th>\n",
       "      <td>35456381</td>\n",
       "      <td>3</td>\n",
       "      <td>7024</td>\n",
       "      <td>2012</td>\n",
       "      <td>8</td>\n",
       "      <td>20</td>\n",
       "      <td>2014</td>\n",
       "      <td>7</td>\n",
       "      <td>2</td>\n",
       "    </tr>\n",
       "    <tr>\n",
       "      <th>3</th>\n",
       "      <td>22250000</td>\n",
       "      <td>3</td>\n",
       "      <td>7755</td>\n",
       "      <td>2011</td>\n",
       "      <td>9</td>\n",
       "      <td>1</td>\n",
       "      <td>2014</td>\n",
       "      <td>7</td>\n",
       "      <td>18</td>\n",
       "    </tr>\n",
       "    <tr>\n",
       "      <th>4</th>\n",
       "      <td>0</td>\n",
       "      <td>1</td>\n",
       "      <td>5432</td>\n",
       "      <td>2012</td>\n",
       "      <td>2</td>\n",
       "      <td>1</td>\n",
       "      <td>2012</td>\n",
       "      <td>2</td>\n",
       "      <td>1</td>\n",
       "    </tr>\n",
       "  </tbody>\n",
       "</table>\n",
       "</div>"
      ]
     },
     "execution_count": 36,
     "metadata": {},
     "output_type": "execute_result"
    }
   ],
   "execution_count": 36
  },
  {
   "metadata": {
    "ExecuteTime": {
     "end_time": "2025-03-26T20:05:32.905523Z",
     "start_time": "2025-03-26T20:05:30.161981Z"
    }
   },
   "cell_type": "code",
   "source": [
    "# Cоздадим матрицу корреaляции phik\n",
    "phk = train_b.phik_matrix(verbose=False, interval_cols=['funding_total_usd', 'lifetime'])"
   ],
   "id": "7f64f29c4c1c4bad",
   "outputs": [],
   "execution_count": 37
  },
  {
   "metadata": {
    "ExecuteTime": {
     "end_time": "2025-03-26T20:05:33.348636Z",
     "start_time": "2025-03-26T20:05:33.105893Z"
    }
   },
   "cell_type": "code",
   "source": [
    "# Визуализируем матрицу корреляции\n",
    "plt.figure(figsize=(12, 8))\n",
    "plt.title('Матрица корреляции')\n",
    "sns.heatmap(phk, annot=True, cmap='coolwarm', fmt=\".2f\")\n",
    "plt.show()"
   ],
   "id": "8ab63dfb5d6bfe94",
   "outputs": [
    {
     "data": {
      "text/plain": [
       "<Figure size 1200x800 with 2 Axes>"
      ],
      "image/png": "[encoded data removed]"
     },
     "metadata": {},
     "output_type": "display_data"
    }
   ],
   "execution_count": 38
  },
  {
   "metadata": {
    "ExecuteTime": {
     "end_time": "2025-03-26T20:05:33.364391Z",
     "start_time": "2025-03-26T20:05:33.356579Z"
    }
   },
   "cell_type": "code",
   "source": [
    "# Добавим константу\n",
    "df_with_const = add_constant(train_b)"
   ],
   "id": "6cb328efa654ca45",
   "outputs": [],
   "execution_count": 39
  },
  {
   "metadata": {
    "ExecuteTime": {
     "end_time": "2025-03-26T20:05:33.399191Z",
     "start_time": "2025-03-26T20:05:33.397542Z"
    }
   },
   "cell_type": "code",
   "source": "",
   "id": "db6086660f00ff36",
   "outputs": [],
   "execution_count": null
  },
  {
   "metadata": {
    "ExecuteTime": {
     "end_time": "2025-03-26T20:05:33.404801Z",
     "start_time": "2025-03-26T20:05:33.402373Z"
    }
   },
   "cell_type": "code",
   "source": [
    "# Определим функцию подсчета VIF\n",
    "def calc_vif(df):\n",
    "\n",
    "    vif_data = pd.DataFrame()\n",
    "    vif_data[\"variables\"] = df.columns\n",
    "    vif_data[\"VIF\"] = [variance_inflation_factor(df.values, i) for i in range(df.shape[1])]\n",
    "\n",
    "    return vif_data"
   ],
   "id": "5178cb4f08283111",
   "outputs": [],
   "execution_count": 40
  },
  {
   "metadata": {
    "ExecuteTime": {
     "end_time": "2025-03-26T20:05:33.953866Z",
     "start_time": "2025-03-26T20:05:33.439842Z"
    }
   },
   "cell_type": "code",
   "source": [
    "# Рассчитаем VIF\n",
    "calc_vif(train_b)"
   ],
   "id": "31ea9103efbc73b0",
   "outputs": [
    {
     "data": {
      "text/plain": [
       "                variables  VIF\n",
       "0       funding_total_usd 0.00\n",
       "1          funding_rounds 2.47\n",
       "2                lifetime 1.08\n",
       "3   first_funding_at_year 9.47\n",
       "4  first_funding_at_month 1.80\n",
       "5    first_funding_at_day 1.90\n",
       "6    last_funding_at_year 8.09\n",
       "7   last_funding_at_month 1.80\n",
       "8     last_funding_at_day 1.89"
      ],
      "text/html": [
       "<div>\n",
       "<style scoped>\n",
       "    .dataframe tbody tr th:only-of-type {\n",
       "        vertical-align: middle;\n",
       "    }\n",
       "\n",
       "    .dataframe tbody tr th {\n",
       "        vertical-align: top;\n",
       "    }\n",
       "\n",
       "    .dataframe thead th {\n",
       "        text-align: right;\n",
       "    }\n",
       "</style>\n",
       "<table border=\"1\" class=\"dataframe\">\n",
       "  <thead>\n",
       "    <tr style=\"text-align: right;\">\n",
       "      <th></th>\n",
       "      <th>variables</th>\n",
       "      <th>VIF</th>\n",
       "    </tr>\n",
       "  </thead>\n",
       "  <tbody>\n",
       "    <tr>\n",
       "      <th>0</th>\n",
       "      <td>funding_total_usd</td>\n",
       "      <td>0.00</td>\n",
       "    </tr>\n",
       "    <tr>\n",
       "      <th>1</th>\n",
       "      <td>funding_rounds</td>\n",
       "      <td>2.47</td>\n",
       "    </tr>\n",
       "    <tr>\n",
       "      <th>2</th>\n",
       "      <td>lifetime</td>\n",
       "      <td>1.08</td>\n",
       "    </tr>\n",
       "    <tr>\n",
       "      <th>3</th>\n",
       "      <td>first_funding_at_year</td>\n",
       "      <td>9.47</td>\n",
       "    </tr>\n",
       "    <tr>\n",
       "      <th>4</th>\n",
       "      <td>first_funding_at_month</td>\n",
       "      <td>1.80</td>\n",
       "    </tr>\n",
       "    <tr>\n",
       "      <th>5</th>\n",
       "      <td>first_funding_at_day</td>\n",
       "      <td>1.90</td>\n",
       "    </tr>\n",
       "    <tr>\n",
       "      <th>6</th>\n",
       "      <td>last_funding_at_year</td>\n",
       "      <td>8.09</td>\n",
       "    </tr>\n",
       "    <tr>\n",
       "      <th>7</th>\n",
       "      <td>last_funding_at_month</td>\n",
       "      <td>1.80</td>\n",
       "    </tr>\n",
       "    <tr>\n",
       "      <th>8</th>\n",
       "      <td>last_funding_at_day</td>\n",
       "      <td>1.89</td>\n",
       "    </tr>\n",
       "  </tbody>\n",
       "</table>\n",
       "</div>"
      ]
     },
     "execution_count": 41,
     "metadata": {},
     "output_type": "execute_result"
    }
   ],
   "execution_count": 41
  },
  {
   "metadata": {},
   "cell_type": "markdown",
   "source": [
    "Ключевые пороги для VIF:\n",
    "- VIF < 5: Минимальная мультиколлинеарность, это нормально.\n",
    "- 5 ≤ VIF ≤ 10: Признак умеренной мультиколлинеарности, стоит обратить внимание.\n",
    "- VIF > 10: Сильная мультиколлинеарность, вероятно, данные коррелируют с другими, стоит рассмотреть их исключение или трансформацию."
   ],
   "id": "a26cb0fd0b893384"
  },
  {
   "metadata": {},
   "cell_type": "markdown",
   "source": "## 5. Зависимости признаков",
   "id": "71ce3ac4c09da6aa"
  },
  {
   "metadata": {},
   "cell_type": "markdown",
   "source": "## 6. Моделирование",
   "id": "db7553e497a461f"
  },
  {
   "metadata": {
    "ExecuteTime": {
     "end_time": "2025-03-26T20:05:34.113515Z",
     "start_time": "2025-03-26T20:05:34.039313Z"
    }
   },
   "cell_type": "code",
   "source": "train.head()",
   "id": "faf04e9cf72acdd8",
   "outputs": [
    {
     "data": {
      "text/plain": [
       "                     name  funding_total_usd     status country_code  \\\n",
       "0               Lunchgate             828626  operating          CHE   \n",
       "1                 EarLens           42935019  operating          USA   \n",
       "2  Reviva Pharmaceuticals           35456381  operating          USA   \n",
       "3    Sancilio and Company           22250000  operating        other   \n",
       "4     WireTough Cylinders                  0  operating          USA   \n",
       "\n",
       "  state_code       region          city  funding_rounds first_funding_at  \\\n",
       "0         25       Zurich        Zürich               2       2011-05-01   \n",
       "1         CA  SF Bay Area  Redwood City               4       2010-05-04   \n",
       "2         CA  SF Bay Area      San Jose               3       2012-08-20   \n",
       "3      other        other         other               3       2011-09-01   \n",
       "4         VA   VA - Other       Bristol               1       2012-02-01   \n",
       "\n",
       "  last_funding_at  ...  women  writers  young adults  lifetime  \\\n",
       "0      2014-12-01  ...      0        0             0      5639   \n",
       "1      2014-02-25  ...      0        0             0      7389   \n",
       "2      2014-07-02  ...      0        0             0      7024   \n",
       "3      2014-07-18  ...      0        0             0      7755   \n",
       "4      2012-02-01  ...      0        0             0      5432   \n",
       "\n",
       "   first_funding_at_year  first_funding_at_month  first_funding_at_day  \\\n",
       "0                   2011                       5                     1   \n",
       "1                   2010                       5                     4   \n",
       "2                   2012                       8                    20   \n",
       "3                   2011                       9                     1   \n",
       "4                   2012                       2                     1   \n",
       "\n",
       "   last_funding_at_year  last_funding_at_month  last_funding_at_day  \n",
       "0                  2014                     12                    1  \n",
       "1                  2014                      2                   25  \n",
       "2                  2014                      7                    2  \n",
       "3                  2014                      7                   18  \n",
       "4                  2012                      2                    1  \n",
       "\n",
       "[5 rows x 872 columns]"
      ],
      "text/html": [
       "<div>\n",
       "<style scoped>\n",
       "    .dataframe tbody tr th:only-of-type {\n",
       "        vertical-align: middle;\n",
       "    }\n",
       "\n",
       "    .dataframe tbody tr th {\n",
       "        vertical-align: top;\n",
       "    }\n",
       "\n",
       "    .dataframe thead th {\n",
       "        text-align: right;\n",
       "    }\n",
       "</style>\n",
       "<table border=\"1\" class=\"dataframe\">\n",
       "  <thead>\n",
       "    <tr style=\"text-align: right;\">\n",
       "      <th></th>\n",
       "      <th>name</th>\n",
       "      <th>funding_total_usd</th>\n",
       "      <th>status</th>\n",
       "      <th>country_code</th>\n",
       "      <th>state_code</th>\n",
       "      <th>region</th>\n",
       "      <th>city</th>\n",
       "      <th>funding_rounds</th>\n",
       "      <th>first_funding_at</th>\n",
       "      <th>last_funding_at</th>\n",
       "      <th>...</th>\n",
       "      <th>women</th>\n",
       "      <th>writers</th>\n",
       "      <th>young adults</th>\n",
       "      <th>lifetime</th>\n",
       "      <th>first_funding_at_year</th>\n",
       "      <th>first_funding_at_month</th>\n",
       "      <th>first_funding_at_day</th>\n",
       "      <th>last_funding_at_year</th>\n",
       "      <th>last_funding_at_month</th>\n",
       "      <th>last_funding_at_day</th>\n",
       "    </tr>\n",
       "  </thead>\n",
       "  <tbody>\n",
       "    <tr>\n",
       "      <th>0</th>\n",
       "      <td>Lunchgate</td>\n",
       "      <td>828626</td>\n",
       "      <td>operating</td>\n",
       "      <td>CHE</td>\n",
       "      <td>25</td>\n",
       "      <td>Zurich</td>\n",
       "      <td>Zürich</td>\n",
       "      <td>2</td>\n",
       "      <td>2011-05-01</td>\n",
       "      <td>2014-12-01</td>\n",
       "      <td>...</td>\n",
       "      <td>0</td>\n",
       "      <td>0</td>\n",
       "      <td>0</td>\n",
       "      <td>5639</td>\n",
       "      <td>2011</td>\n",
       "      <td>5</td>\n",
       "      <td>1</td>\n",
       "      <td>2014</td>\n",
       "      <td>12</td>\n",
       "      <td>1</td>\n",
       "    </tr>\n",
       "    <tr>\n",
       "      <th>1</th>\n",
       "      <td>EarLens</td>\n",
       "      <td>42935019</td>\n",
       "      <td>operating</td>\n",
       "      <td>USA</td>\n",
       "      <td>CA</td>\n",
       "      <td>SF Bay Area</td>\n",
       "      <td>Redwood City</td>\n",
       "      <td>4</td>\n",
       "      <td>2010-05-04</td>\n",
       "      <td>2014-02-25</td>\n",
       "      <td>...</td>\n",
       "      <td>0</td>\n",
       "      <td>0</td>\n",
       "      <td>0</td>\n",
       "      <td>7389</td>\n",
       "      <td>2010</td>\n",
       "      <td>5</td>\n",
       "      <td>4</td>\n",
       "      <td>2014</td>\n",
       "      <td>2</td>\n",
       "      <td>25</td>\n",
       "    </tr>\n",
       "    <tr>\n",
       "      <th>2</th>\n",
       "      <td>Reviva Pharmaceuticals</td>\n",
       "      <td>35456381</td>\n",
       "      <td>operating</td>\n",
       "      <td>USA</td>\n",
       "      <td>CA</td>\n",
       "      <td>SF Bay Area</td>\n",
       "      <td>San Jose</td>\n",
       "      <td>3</td>\n",
       "      <td>2012-08-20</td>\n",
       "      <td>2014-07-02</td>\n",
       "      <td>...</td>\n",
       "      <td>0</td>\n",
       "      <td>0</td>\n",
       "      <td>0</td>\n",
       "      <td>7024</td>\n",
       "      <td>2012</td>\n",
       "      <td>8</td>\n",
       "      <td>20</td>\n",
       "      <td>2014</td>\n",
       "      <td>7</td>\n",
       "      <td>2</td>\n",
       "    </tr>\n",
       "    <tr>\n",
       "      <th>3</th>\n",
       "      <td>Sancilio and Company</td>\n",
       "      <td>22250000</td>\n",
       "      <td>operating</td>\n",
       "      <td>other</td>\n",
       "      <td>other</td>\n",
       "      <td>other</td>\n",
       "      <td>other</td>\n",
       "      <td>3</td>\n",
       "      <td>2011-09-01</td>\n",
       "      <td>2014-07-18</td>\n",
       "      <td>...</td>\n",
       "      <td>0</td>\n",
       "      <td>0</td>\n",
       "      <td>0</td>\n",
       "      <td>7755</td>\n",
       "      <td>2011</td>\n",
       "      <td>9</td>\n",
       "      <td>1</td>\n",
       "      <td>2014</td>\n",
       "      <td>7</td>\n",
       "      <td>18</td>\n",
       "    </tr>\n",
       "    <tr>\n",
       "      <th>4</th>\n",
       "      <td>WireTough Cylinders</td>\n",
       "      <td>0</td>\n",
       "      <td>operating</td>\n",
       "      <td>USA</td>\n",
       "      <td>VA</td>\n",
       "      <td>VA - Other</td>\n",
       "      <td>Bristol</td>\n",
       "      <td>1</td>\n",
       "      <td>2012-02-01</td>\n",
       "      <td>2012-02-01</td>\n",
       "      <td>...</td>\n",
       "      <td>0</td>\n",
       "      <td>0</td>\n",
       "      <td>0</td>\n",
       "      <td>5432</td>\n",
       "      <td>2012</td>\n",
       "      <td>2</td>\n",
       "      <td>1</td>\n",
       "      <td>2012</td>\n",
       "      <td>2</td>\n",
       "      <td>1</td>\n",
       "    </tr>\n",
       "  </tbody>\n",
       "</table>\n",
       "<p>5 rows × 872 columns</p>\n",
       "</div>"
      ]
     },
     "execution_count": 42,
     "metadata": {},
     "output_type": "execute_result"
    }
   ],
   "execution_count": 42
  },
  {
   "metadata": {
    "ExecuteTime": {
     "end_time": "2025-03-26T20:08:15.295339Z",
     "start_time": "2025-03-26T20:08:08.257225Z"
    }
   },
   "cell_type": "code",
   "source": [
    "encoder = TargetEncoder()\n",
    "train = encoder.fit_transform(train, train['status'])"
   ],
   "id": "64532f906e3094af",
   "outputs": [],
   "execution_count": 44
  }
 ],
 "metadata": {
  "kernelspec": {
   "display_name": "Python 3",
   "language": "python",
   "name": "python3"
  },
  "language_info": {
   "codemirror_mode": {
    "name": "ipython",
    "version": 2
   },
   "file_extension": ".py",
   "mimetype": "text/x-python",
   "name": "python",
   "nbconvert_exporter": "python",
   "pygments_lexer": "ipython2",
   "version": "2.7.6"
  }
 },
 "nbformat": 4,
 "nbformat_minor": 5
}
